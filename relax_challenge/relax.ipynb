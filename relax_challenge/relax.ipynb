{
 "cells": [
  {
   "cell_type": "code",
   "execution_count": 2,
   "id": "c4125f09",
   "metadata": {},
   "outputs": [],
   "source": [
    "import pandas as pd\n",
    "from datetime import datetime\n",
    "from sklearn.ensemble import ExtraTreesClassifier\n",
    "import seaborn as sns\n",
    "import matplotlib.pyplot as plt\n",
    "from sklearn.metrics import classification_report, accuracy_score,confusion_matrix\n",
    "from sklearn.ensemble import RandomForestClassifier"
   ]
  },
  {
   "cell_type": "code",
   "execution_count": 30,
   "id": "4e5e92ca",
   "metadata": {},
   "outputs": [],
   "source": [
    "ts = pd.read_csv('takehome_user_engagement.csv')\n",
    "df = pd.read_csv('takehome_users.csv', encoding='latin-1') "
   ]
  },
  {
   "cell_type": "code",
   "execution_count": 8,
   "id": "37bf9dfa",
   "metadata": {},
   "outputs": [
    {
     "data": {
      "text/html": [
       "<div>\n",
       "<style scoped>\n",
       "    .dataframe tbody tr th:only-of-type {\n",
       "        vertical-align: middle;\n",
       "    }\n",
       "\n",
       "    .dataframe tbody tr th {\n",
       "        vertical-align: top;\n",
       "    }\n",
       "\n",
       "    .dataframe thead th {\n",
       "        text-align: right;\n",
       "    }\n",
       "</style>\n",
       "<table border=\"1\" class=\"dataframe\">\n",
       "  <thead>\n",
       "    <tr style=\"text-align: right;\">\n",
       "      <th></th>\n",
       "      <th>object_id</th>\n",
       "      <th>creation_time</th>\n",
       "      <th>name</th>\n",
       "      <th>email</th>\n",
       "      <th>creation_source</th>\n",
       "      <th>last_session_creation_time</th>\n",
       "      <th>opted_in_to_mailing_list</th>\n",
       "      <th>enabled_for_marketing_drip</th>\n",
       "      <th>org_id</th>\n",
       "      <th>invited_by_user_id</th>\n",
       "    </tr>\n",
       "  </thead>\n",
       "  <tbody>\n",
       "    <tr>\n",
       "      <th>0</th>\n",
       "      <td>1</td>\n",
       "      <td>2014-04-22 03:53:30</td>\n",
       "      <td>Clausen August</td>\n",
       "      <td>AugustCClausen@yahoo.com</td>\n",
       "      <td>GUEST_INVITE</td>\n",
       "      <td>1.398139e+09</td>\n",
       "      <td>1</td>\n",
       "      <td>0</td>\n",
       "      <td>11</td>\n",
       "      <td>10803.0</td>\n",
       "    </tr>\n",
       "    <tr>\n",
       "      <th>1</th>\n",
       "      <td>2</td>\n",
       "      <td>2013-11-15 03:45:04</td>\n",
       "      <td>Poole Matthew</td>\n",
       "      <td>MatthewPoole@gustr.com</td>\n",
       "      <td>ORG_INVITE</td>\n",
       "      <td>1.396238e+09</td>\n",
       "      <td>0</td>\n",
       "      <td>0</td>\n",
       "      <td>1</td>\n",
       "      <td>316.0</td>\n",
       "    </tr>\n",
       "    <tr>\n",
       "      <th>2</th>\n",
       "      <td>3</td>\n",
       "      <td>2013-03-19 23:14:52</td>\n",
       "      <td>Bottrill Mitchell</td>\n",
       "      <td>MitchellBottrill@gustr.com</td>\n",
       "      <td>ORG_INVITE</td>\n",
       "      <td>1.363735e+09</td>\n",
       "      <td>0</td>\n",
       "      <td>0</td>\n",
       "      <td>94</td>\n",
       "      <td>1525.0</td>\n",
       "    </tr>\n",
       "    <tr>\n",
       "      <th>3</th>\n",
       "      <td>4</td>\n",
       "      <td>2013-05-21 08:09:28</td>\n",
       "      <td>Clausen Nicklas</td>\n",
       "      <td>NicklasSClausen@yahoo.com</td>\n",
       "      <td>GUEST_INVITE</td>\n",
       "      <td>1.369210e+09</td>\n",
       "      <td>0</td>\n",
       "      <td>0</td>\n",
       "      <td>1</td>\n",
       "      <td>5151.0</td>\n",
       "    </tr>\n",
       "    <tr>\n",
       "      <th>4</th>\n",
       "      <td>5</td>\n",
       "      <td>2013-01-17 10:14:20</td>\n",
       "      <td>Raw Grace</td>\n",
       "      <td>GraceRaw@yahoo.com</td>\n",
       "      <td>GUEST_INVITE</td>\n",
       "      <td>1.358850e+09</td>\n",
       "      <td>0</td>\n",
       "      <td>0</td>\n",
       "      <td>193</td>\n",
       "      <td>5240.0</td>\n",
       "    </tr>\n",
       "  </tbody>\n",
       "</table>\n",
       "</div>"
      ],
      "text/plain": [
       "   object_id        creation_time               name  \\\n",
       "0          1  2014-04-22 03:53:30     Clausen August   \n",
       "1          2  2013-11-15 03:45:04      Poole Matthew   \n",
       "2          3  2013-03-19 23:14:52  Bottrill Mitchell   \n",
       "3          4  2013-05-21 08:09:28    Clausen Nicklas   \n",
       "4          5  2013-01-17 10:14:20          Raw Grace   \n",
       "\n",
       "                        email creation_source  last_session_creation_time  \\\n",
       "0    AugustCClausen@yahoo.com    GUEST_INVITE                1.398139e+09   \n",
       "1      MatthewPoole@gustr.com      ORG_INVITE                1.396238e+09   \n",
       "2  MitchellBottrill@gustr.com      ORG_INVITE                1.363735e+09   \n",
       "3   NicklasSClausen@yahoo.com    GUEST_INVITE                1.369210e+09   \n",
       "4          GraceRaw@yahoo.com    GUEST_INVITE                1.358850e+09   \n",
       "\n",
       "   opted_in_to_mailing_list  enabled_for_marketing_drip  org_id  \\\n",
       "0                         1                           0      11   \n",
       "1                         0                           0       1   \n",
       "2                         0                           0      94   \n",
       "3                         0                           0       1   \n",
       "4                         0                           0     193   \n",
       "\n",
       "   invited_by_user_id  \n",
       "0             10803.0  \n",
       "1               316.0  \n",
       "2              1525.0  \n",
       "3              5151.0  \n",
       "4              5240.0  "
      ]
     },
     "execution_count": 8,
     "metadata": {},
     "output_type": "execute_result"
    }
   ],
   "source": [
    "df.head()"
   ]
  },
  {
   "cell_type": "code",
   "execution_count": 9,
   "id": "2fc1fc4f",
   "metadata": {},
   "outputs": [
    {
     "data": {
      "text/html": [
       "<div>\n",
       "<style scoped>\n",
       "    .dataframe tbody tr th:only-of-type {\n",
       "        vertical-align: middle;\n",
       "    }\n",
       "\n",
       "    .dataframe tbody tr th {\n",
       "        vertical-align: top;\n",
       "    }\n",
       "\n",
       "    .dataframe thead th {\n",
       "        text-align: right;\n",
       "    }\n",
       "</style>\n",
       "<table border=\"1\" class=\"dataframe\">\n",
       "  <thead>\n",
       "    <tr style=\"text-align: right;\">\n",
       "      <th></th>\n",
       "      <th>time_stamp</th>\n",
       "      <th>user_id</th>\n",
       "      <th>visited</th>\n",
       "    </tr>\n",
       "  </thead>\n",
       "  <tbody>\n",
       "    <tr>\n",
       "      <th>0</th>\n",
       "      <td>2014-04-22 03:53:30</td>\n",
       "      <td>1</td>\n",
       "      <td>1</td>\n",
       "    </tr>\n",
       "    <tr>\n",
       "      <th>1</th>\n",
       "      <td>2013-11-15 03:45:04</td>\n",
       "      <td>2</td>\n",
       "      <td>1</td>\n",
       "    </tr>\n",
       "    <tr>\n",
       "      <th>2</th>\n",
       "      <td>2013-11-29 03:45:04</td>\n",
       "      <td>2</td>\n",
       "      <td>1</td>\n",
       "    </tr>\n",
       "    <tr>\n",
       "      <th>3</th>\n",
       "      <td>2013-12-09 03:45:04</td>\n",
       "      <td>2</td>\n",
       "      <td>1</td>\n",
       "    </tr>\n",
       "    <tr>\n",
       "      <th>4</th>\n",
       "      <td>2013-12-25 03:45:04</td>\n",
       "      <td>2</td>\n",
       "      <td>1</td>\n",
       "    </tr>\n",
       "  </tbody>\n",
       "</table>\n",
       "</div>"
      ],
      "text/plain": [
       "            time_stamp  user_id  visited\n",
       "0  2014-04-22 03:53:30        1        1\n",
       "1  2013-11-15 03:45:04        2        1\n",
       "2  2013-11-29 03:45:04        2        1\n",
       "3  2013-12-09 03:45:04        2        1\n",
       "4  2013-12-25 03:45:04        2        1"
      ]
     },
     "execution_count": 9,
     "metadata": {},
     "output_type": "execute_result"
    }
   ],
   "source": [
    "ts.head()"
   ]
  },
  {
   "cell_type": "code",
   "execution_count": 10,
   "id": "8672ee26",
   "metadata": {},
   "outputs": [
    {
     "data": {
      "text/plain": [
       "object_id                        0\n",
       "creation_time                    0\n",
       "name                             0\n",
       "email                            0\n",
       "creation_source                  0\n",
       "last_session_creation_time    3177\n",
       "opted_in_to_mailing_list         0\n",
       "enabled_for_marketing_drip       0\n",
       "org_id                           0\n",
       "invited_by_user_id            5583\n",
       "dtype: int64"
      ]
     },
     "execution_count": 10,
     "metadata": {},
     "output_type": "execute_result"
    }
   ],
   "source": [
    "df.isna().sum()"
   ]
  },
  {
   "cell_type": "code",
   "execution_count": 12,
   "id": "b8fc98ec",
   "metadata": {},
   "outputs": [
    {
     "data": {
      "text/plain": [
       "(12000, 10)"
      ]
     },
     "execution_count": 12,
     "metadata": {},
     "output_type": "execute_result"
    }
   ],
   "source": [
    "df.shape"
   ]
  },
  {
   "cell_type": "markdown",
   "id": "6c4a3ba4",
   "metadata": {},
   "source": [
    "Drop duplicates if there are any."
   ]
  },
  {
   "cell_type": "code",
   "execution_count": 31,
   "id": "6609fd60",
   "metadata": {},
   "outputs": [
    {
     "data": {
      "text/html": [
       "<div>\n",
       "<style scoped>\n",
       "    .dataframe tbody tr th:only-of-type {\n",
       "        vertical-align: middle;\n",
       "    }\n",
       "\n",
       "    .dataframe tbody tr th {\n",
       "        vertical-align: top;\n",
       "    }\n",
       "\n",
       "    .dataframe thead th {\n",
       "        text-align: right;\n",
       "    }\n",
       "</style>\n",
       "<table border=\"1\" class=\"dataframe\">\n",
       "  <thead>\n",
       "    <tr style=\"text-align: right;\">\n",
       "      <th></th>\n",
       "      <th>object_id</th>\n",
       "      <th>creation_time</th>\n",
       "      <th>name</th>\n",
       "      <th>email</th>\n",
       "      <th>creation_source</th>\n",
       "      <th>last_session_creation_time</th>\n",
       "      <th>opted_in_to_mailing_list</th>\n",
       "      <th>enabled_for_marketing_drip</th>\n",
       "      <th>org_id</th>\n",
       "      <th>invited_by_user_id</th>\n",
       "    </tr>\n",
       "  </thead>\n",
       "  <tbody>\n",
       "    <tr>\n",
       "      <th>0</th>\n",
       "      <td>1</td>\n",
       "      <td>2014-04-22 03:53:30</td>\n",
       "      <td>Clausen August</td>\n",
       "      <td>AugustCClausen@yahoo.com</td>\n",
       "      <td>GUEST_INVITE</td>\n",
       "      <td>1.398139e+09</td>\n",
       "      <td>1</td>\n",
       "      <td>0</td>\n",
       "      <td>11</td>\n",
       "      <td>10803.0</td>\n",
       "    </tr>\n",
       "    <tr>\n",
       "      <th>1</th>\n",
       "      <td>2</td>\n",
       "      <td>2013-11-15 03:45:04</td>\n",
       "      <td>Poole Matthew</td>\n",
       "      <td>MatthewPoole@gustr.com</td>\n",
       "      <td>ORG_INVITE</td>\n",
       "      <td>1.396238e+09</td>\n",
       "      <td>0</td>\n",
       "      <td>0</td>\n",
       "      <td>1</td>\n",
       "      <td>316.0</td>\n",
       "    </tr>\n",
       "    <tr>\n",
       "      <th>2</th>\n",
       "      <td>3</td>\n",
       "      <td>2013-03-19 23:14:52</td>\n",
       "      <td>Bottrill Mitchell</td>\n",
       "      <td>MitchellBottrill@gustr.com</td>\n",
       "      <td>ORG_INVITE</td>\n",
       "      <td>1.363735e+09</td>\n",
       "      <td>0</td>\n",
       "      <td>0</td>\n",
       "      <td>94</td>\n",
       "      <td>1525.0</td>\n",
       "    </tr>\n",
       "    <tr>\n",
       "      <th>3</th>\n",
       "      <td>4</td>\n",
       "      <td>2013-05-21 08:09:28</td>\n",
       "      <td>Clausen Nicklas</td>\n",
       "      <td>NicklasSClausen@yahoo.com</td>\n",
       "      <td>GUEST_INVITE</td>\n",
       "      <td>1.369210e+09</td>\n",
       "      <td>0</td>\n",
       "      <td>0</td>\n",
       "      <td>1</td>\n",
       "      <td>5151.0</td>\n",
       "    </tr>\n",
       "    <tr>\n",
       "      <th>4</th>\n",
       "      <td>5</td>\n",
       "      <td>2013-01-17 10:14:20</td>\n",
       "      <td>Raw Grace</td>\n",
       "      <td>GraceRaw@yahoo.com</td>\n",
       "      <td>GUEST_INVITE</td>\n",
       "      <td>1.358850e+09</td>\n",
       "      <td>0</td>\n",
       "      <td>0</td>\n",
       "      <td>193</td>\n",
       "      <td>5240.0</td>\n",
       "    </tr>\n",
       "    <tr>\n",
       "      <th>...</th>\n",
       "      <td>...</td>\n",
       "      <td>...</td>\n",
       "      <td>...</td>\n",
       "      <td>...</td>\n",
       "      <td>...</td>\n",
       "      <td>...</td>\n",
       "      <td>...</td>\n",
       "      <td>...</td>\n",
       "      <td>...</td>\n",
       "      <td>...</td>\n",
       "    </tr>\n",
       "    <tr>\n",
       "      <th>11995</th>\n",
       "      <td>11996</td>\n",
       "      <td>2013-09-06 06:14:15</td>\n",
       "      <td>Meier Sophia</td>\n",
       "      <td>SophiaMeier@gustr.com</td>\n",
       "      <td>ORG_INVITE</td>\n",
       "      <td>1.378448e+09</td>\n",
       "      <td>0</td>\n",
       "      <td>0</td>\n",
       "      <td>89</td>\n",
       "      <td>8263.0</td>\n",
       "    </tr>\n",
       "    <tr>\n",
       "      <th>11996</th>\n",
       "      <td>11997</td>\n",
       "      <td>2013-01-10 18:28:37</td>\n",
       "      <td>Fisher Amelie</td>\n",
       "      <td>AmelieFisher@gmail.com</td>\n",
       "      <td>SIGNUP_GOOGLE_AUTH</td>\n",
       "      <td>1.358275e+09</td>\n",
       "      <td>0</td>\n",
       "      <td>0</td>\n",
       "      <td>200</td>\n",
       "      <td>NaN</td>\n",
       "    </tr>\n",
       "    <tr>\n",
       "      <th>11997</th>\n",
       "      <td>11998</td>\n",
       "      <td>2014-04-27 12:45:16</td>\n",
       "      <td>Haynes Jake</td>\n",
       "      <td>JakeHaynes@cuvox.de</td>\n",
       "      <td>GUEST_INVITE</td>\n",
       "      <td>1.398603e+09</td>\n",
       "      <td>1</td>\n",
       "      <td>1</td>\n",
       "      <td>83</td>\n",
       "      <td>8074.0</td>\n",
       "    </tr>\n",
       "    <tr>\n",
       "      <th>11998</th>\n",
       "      <td>11999</td>\n",
       "      <td>2012-05-31 11:55:59</td>\n",
       "      <td>Faber Annett</td>\n",
       "      <td>mhaerzxp@iuxiw.com</td>\n",
       "      <td>PERSONAL_PROJECTS</td>\n",
       "      <td>1.338638e+09</td>\n",
       "      <td>0</td>\n",
       "      <td>0</td>\n",
       "      <td>6</td>\n",
       "      <td>NaN</td>\n",
       "    </tr>\n",
       "    <tr>\n",
       "      <th>11999</th>\n",
       "      <td>12000</td>\n",
       "      <td>2014-01-26 08:57:12</td>\n",
       "      <td>Lima Thaís</td>\n",
       "      <td>ThaisMeloLima@hotmail.com</td>\n",
       "      <td>SIGNUP</td>\n",
       "      <td>1.390727e+09</td>\n",
       "      <td>0</td>\n",
       "      <td>1</td>\n",
       "      <td>0</td>\n",
       "      <td>NaN</td>\n",
       "    </tr>\n",
       "  </tbody>\n",
       "</table>\n",
       "<p>11981 rows × 10 columns</p>\n",
       "</div>"
      ],
      "text/plain": [
       "       object_id        creation_time               name  \\\n",
       "0              1  2014-04-22 03:53:30     Clausen August   \n",
       "1              2  2013-11-15 03:45:04      Poole Matthew   \n",
       "2              3  2013-03-19 23:14:52  Bottrill Mitchell   \n",
       "3              4  2013-05-21 08:09:28    Clausen Nicklas   \n",
       "4              5  2013-01-17 10:14:20          Raw Grace   \n",
       "...          ...                  ...                ...   \n",
       "11995      11996  2013-09-06 06:14:15       Meier Sophia   \n",
       "11996      11997  2013-01-10 18:28:37      Fisher Amelie   \n",
       "11997      11998  2014-04-27 12:45:16        Haynes Jake   \n",
       "11998      11999  2012-05-31 11:55:59       Faber Annett   \n",
       "11999      12000  2014-01-26 08:57:12         Lima Thaís   \n",
       "\n",
       "                            email     creation_source  \\\n",
       "0        AugustCClausen@yahoo.com        GUEST_INVITE   \n",
       "1          MatthewPoole@gustr.com          ORG_INVITE   \n",
       "2      MitchellBottrill@gustr.com          ORG_INVITE   \n",
       "3       NicklasSClausen@yahoo.com        GUEST_INVITE   \n",
       "4              GraceRaw@yahoo.com        GUEST_INVITE   \n",
       "...                           ...                 ...   \n",
       "11995       SophiaMeier@gustr.com          ORG_INVITE   \n",
       "11996      AmelieFisher@gmail.com  SIGNUP_GOOGLE_AUTH   \n",
       "11997         JakeHaynes@cuvox.de        GUEST_INVITE   \n",
       "11998          mhaerzxp@iuxiw.com   PERSONAL_PROJECTS   \n",
       "11999   ThaisMeloLima@hotmail.com              SIGNUP   \n",
       "\n",
       "       last_session_creation_time  opted_in_to_mailing_list  \\\n",
       "0                    1.398139e+09                         1   \n",
       "1                    1.396238e+09                         0   \n",
       "2                    1.363735e+09                         0   \n",
       "3                    1.369210e+09                         0   \n",
       "4                    1.358850e+09                         0   \n",
       "...                           ...                       ...   \n",
       "11995                1.378448e+09                         0   \n",
       "11996                1.358275e+09                         0   \n",
       "11997                1.398603e+09                         1   \n",
       "11998                1.338638e+09                         0   \n",
       "11999                1.390727e+09                         0   \n",
       "\n",
       "       enabled_for_marketing_drip  org_id  invited_by_user_id  \n",
       "0                               0      11             10803.0  \n",
       "1                               0       1               316.0  \n",
       "2                               0      94              1525.0  \n",
       "3                               0       1              5151.0  \n",
       "4                               0     193              5240.0  \n",
       "...                           ...     ...                 ...  \n",
       "11995                           0      89              8263.0  \n",
       "11996                           0     200                 NaN  \n",
       "11997                           1      83              8074.0  \n",
       "11998                           0       6                 NaN  \n",
       "11999                           1       0                 NaN  \n",
       "\n",
       "[11981 rows x 10 columns]"
      ]
     },
     "execution_count": 31,
     "metadata": {},
     "output_type": "execute_result"
    }
   ],
   "source": [
    "df.drop_duplicates(['name','email'], keep='first')"
   ]
  },
  {
   "cell_type": "markdown",
   "id": "d97066aa",
   "metadata": {},
   "source": [
    "Function block to check if users logged in 3 or more times in a single week."
   ]
  },
  {
   "cell_type": "code",
   "execution_count": 18,
   "id": "20364115",
   "metadata": {
    "scrolled": true
   },
   "outputs": [
    {
     "name": "stdout",
     "output_type": "stream",
     "text": [
      "{8192, 2, 8196, 8201, 10, 20, 8214, 8217, 8220, 8221, 33, 8232, 8233, 42, 43, 8235, 8239, 50, 8243, 53, 60, 8252, 63, 8255, 8258, 8259, 69, 8265, 74, 8270, 80, 81, 82, 8277, 8278, 87, 8280, 8294, 8297, 8310, 8311, 8319, 133, 135, 141, 8334, 146, 153, 8348, 160, 165, 168, 172, 174, 8366, 8371, 185, 188, 8381, 8383, 197, 200, 8393, 202, 203, 8394, 8399, 209, 8401, 8403, 214, 8408, 8415, 230, 8426, 8435, 245, 247, 8440, 8442, 8448, 263, 265, 8460, 8463, 8466, 275, 280, 283, 297, 298, 8493, 305, 310, 311, 8505, 8507, 8508, 8511, 321, 322, 8523, 341, 345, 8538, 347, 351, 8553, 362, 363, 370, 8569, 8571, 383, 8581, 397, 401, 8593, 8595, 8601, 8602, 418, 8615, 430, 8622, 445, 8639, 8640, 450, 460, 462, 8654, 469, 471, 472, 478, 479, 8673, 483, 8675, 8677, 8679, 492, 494, 497, 8689, 502, 8695, 506, 509, 510, 8701, 512, 8704, 8706, 8708, 518, 520, 8712, 522, 529, 8721, 8725, 535, 540, 547, 8740, 8741, 553, 8749, 8750, 564, 8760, 572, 8767, 8768, 8769, 8770, 8779, 589, 591, 8789, 8790, 601, 603, 605, 8803, 8806, 8809, 618, 8811, 627, 628, 632, 634, 8827, 639, 8832, 8835, 8837, 8856, 8857, 8860, 669, 8862, 8864, 8869, 679, 680, 8876, 8880, 8884, 8899, 717, 8912, 724, 725, 8918, 728, 8924, 8932, 8944, 8945, 754, 8952, 8955, 8957, 772, 783, 786, 8989, 804, 9011, 9013, 828, 9030, 9031, 845, 9039, 9042, 851, 9046, 9060, 869, 874, 882, 9076, 885, 9079, 9083, 9089, 901, 906, 907, 912, 9112, 9113, 928, 9120, 932, 934, 937, 943, 9142, 9143, 953, 9145, 9147, 9157, 9164, 980, 9172, 985, 9195, 1007, 1009, 1013, 1017, 1018, 1026, 1027, 9222, 1035, 1039, 1055, 1061, 9257, 1072, 9269, 1089, 9281, 1093, 1094, 9286, 9290, 1099, 9295, 1106, 1107, 9303, 9306, 1119, 9312, 1123, 1124, 1128, 1129, 9322, 9325, 1136, 1145, 1150, 1151, 9343, 9344, 9345, 1155, 1156, 9346, 1163, 9358, 9359, 9362, 1173, 9374, 1186, 9381, 9383, 1196, 9390, 1202, 9400, 9402, 1212, 1214, 1222, 9423, 1233, 1235, 1238, 9432, 1242, 9434, 9435, 1245, 9436, 1250, 9445, 9450, 9461, 9464, 1274, 9470, 1280, 9477, 9479, 9481, 1290, 9486, 1303, 9495, 9504, 1318, 1319, 1320, 9510, 1327, 9524, 1339, 9532, 1343, 9535, 1345, 9540, 1350, 9542, 1357, 1361, 9558, 9559, 1368, 1379, 9571, 9580, 9582, 9584, 1396, 9591, 9593, 9597, 1407, 9601, 1410, 1411, 1421, 9615, 9616, 9623, 1434, 9635, 9641, 9644, 9645, 9652, 1464, 9660, 1472, 1476, 9670, 1479, 1480, 1481, 1485, 9679, 9683, 9684, 9691, 9694, 9695, 1506, 1507, 1508, 9699, 1525, 9717, 9722, 9724, 9727, 9728, 1546, 9742, 9746, 1555, 9747, 9751, 1561, 9754, 1576, 9768, 9771, 1581, 1592, 9786, 1598, 9806, 1617, 1624, 9823, 9825, 1641, 9833, 9839, 9841, 9843, 9845, 9850, 9852, 1663, 1665, 1666, 1671, 1672, 9863, 9868, 9870, 1681, 1690, 1693, 1694, 9889, 9897, 1709, 9901, 1714, 1716, 1717, 1722, 9914, 1726, 1730, 9925, 1740, 9936, 9941, 9942, 1754, 9947, 9948, 1758, 1759, 9958, 1769, 1770, 9961, 9963, 9965, 9968, 9972, 1781, 9974, 1783, 1786, 9985, 9991, 9992, 9994, 9999, 10002, 1811, 10006, 1816, 10011, 1820, 1821, 1822, 1825, 10020, 10022, 10023, 10025, 1836, 1845, 10053, 1865, 10059, 10062, 1872, 1879, 1885, 1897, 1907, 10100, 10102, 10104, 10115, 10118, 10121, 1930, 1941, 1944, 1954, 10153, 10159, 1974, 10167, 10177, 1993, 1999, 2002, 10199, 2009, 2011, 2013, 10207, 10211, 10212, 2025, 10222, 2033, 10225, 2037, 2038, 10230, 10233, 2042, 2043, 10234, 10238, 2049, 10244, 10246, 2056, 10251, 10258, 2073, 2074, 10265, 2078, 2080, 10277, 10281, 10283, 2103, 10299, 2111, 2112, 2113, 10303, 10307, 10311, 2124, 10316, 10320, 2129, 10322, 10332, 10335, 10339, 10349, 2159, 2160, 10352, 10355, 10357, 2171, 10363, 10367, 2176, 10371, 10372, 2193, 10388, 2199, 2201, 10394, 10397, 10401, 10406, 10412, 10430, 2239, 2241, 10433, 10434, 10437, 2246, 2253, 10446, 10447, 10448, 10459, 2270, 2271, 10465, 2278, 10470, 10473, 2282, 2286, 2289, 2290, 2297, 2300, 10497, 2307, 2312, 10507, 2316, 2322, 10514, 2324, 10519, 10520, 10523, 10524, 2333, 10526, 2337, 2339, 2357, 2361, 10554, 2371, 10574, 10580, 2390, 10582, 10585, 2399, 2400, 2406, 10599, 10602, 10611, 2425, 10617, 10619, 10621, 10626, 2435, 2438, 10630, 10634, 2447, 10639, 10644, 10647, 10656, 10663, 2474, 2481, 10674, 10678, 10679, 2490, 10683, 2495, 2502, 10696, 10708, 2519, 10725, 2539, 10734, 2544, 10737, 2548, 10745, 10746, 2557, 10750, 10753, 10756, 10757, 2566, 2568, 2569, 2570, 2571, 10763, 2583, 2587, 2590, 10785, 10787, 10791, 10792, 2604, 2610, 2615, 2618, 10811, 2620, 10812, 2622, 2626, 10827, 2636, 10832, 2641, 10833, 10834, 2645, 2647, 10840, 10843, 2658, 10851, 10858, 10860, 2672, 10866, 10867, 10869, 10870, 2681, 10876, 10885, 10892, 2713, 10911, 10913, 2723, 2724, 2727, 2731, 10928, 2739, 2744, 10937, 2750, 10945, 10953, 2762, 10958, 10961, 2771, 2787, 2798, 2809, 11003, 11004, 11010, 11015, 11021, 2832, 11024, 2836, 11032, 2841, 2843, 11036, 11039, 2851, 2857, 2859, 11056, 2866, 11061, 2870, 11065, 11067, 11072, 2881, 2886, 2887, 2889, 2891, 11083, 11086, 2895, 11093, 11100, 2915, 2918, 11112, 2921, 2931, 11130, 2939, 2945, 2946, 2948, 2952, 11144, 11160, 2969, 2974, 11169, 11170, 2979, 11176, 2993, 11186, 11195, 11198, 3014, 11206, 3017, 3018, 11212, 3025, 3026, 3028, 11223, 3032, 3036, 3039, 3046, 11240, 3052, 3053, 3059, 11254, 3063, 3066, 3067, 3071, 11263, 11267, 3076, 3077, 11270, 3080, 3081, 11272, 11273, 3087, 3093, 3100, 11294, 11300, 3112, 3113, 11306, 11310, 11314, 3125, 11320, 11327, 3137, 3139, 3145, 11341, 11344, 11347, 11349, 3160, 3163, 11357, 3175, 3179, 3180, 3185, 11377, 11379, 3193, 3194, 11388, 3204, 3205, 3207, 11404, 11406, 3217, 11412, 3222, 11415, 3226, 11421, 11423, 3232, 3235, 11428, 3238, 3239, 3240, 3244, 11450, 11452, 3269, 3273, 11465, 11469, 3280, 11479, 3294, 11487, 11500, 3311, 3317, 3324, 11519, 3332, 11527, 3338, 3339, 11530, 11533, 11537, 3347, 11541, 3353, 3360, 11559, 3370, 11567, 3378, 11570, 3381, 11573, 11578, 3387, 3389, 3390, 11588, 3397, 11591, 11593, 11596, 3405, 11599, 11600, 3409, 3411, 11604, 3426, 3428, 11622, 11627, 3436, 11637, 11642, 3451, 3463, 11660, 11662, 11671, 3481, 3484, 11682, 11683, 3493, 11688, 3502, 11702, 3517, 3522, 3525, 3531, 11728, 11730, 11732, 3541, 3546, 11738, 3556, 3560, 3561, 3562, 11758, 3567, 11762, 11764, 3574, 3577, 3578, 11769, 11773, 11782, 3592, 3593, 3597, 3598, 3601, 11796, 3609, 11801, 3612, 11805, 11806, 3617, 3623, 11823, 3638, 3641, 3642, 3644, 11836, 11841, 3652, 11857, 3671, 3673, 3675, 11869, 11873, 11885, 3695, 11895, 3705, 11902, 3717, 3718, 11909, 11913, 11920, 11924, 3739, 11939, 3749, 3752, 3757, 3758, 3762, 3765, 11957, 11958, 11959, 11961, 3772, 11964, 3774, 11965, 11967, 11969, 11975, 11988, 3802, 3804, 3812, 3819, 3824, 3832, 3843, 3852, 3859, 3862, 3863, 3866, 3867, 3881, 3882, 3906, 3915, 3946, 3956, 3957, 3960, 3970, 4007, 4009, 4017, 4018, 4019, 4022, 4029, 4031, 4041, 4043, 4045, 4052, 4065, 4067, 4074, 4086, 4090, 4093, 4105, 4106, 4134, 4140, 4141, 4143, 4145, 4156, 4158, 4167, 4171, 4181, 4182, 4184, 4186, 4203, 4206, 4208, 4209, 4216, 4217, 4218, 4223, 4234, 4243, 4244, 4248, 4255, 4258, 4263, 4266, 4268, 4269, 4278, 4282, 4295, 4296, 4317, 4330, 4335, 4349, 4350, 4353, 4354, 4371, 4384, 4388, 4396, 4402, 4403, 4404, 4421, 4425, 4428, 4433, 4444, 4446, 4467, 4472, 4481, 4485, 4489, 4494, 4497, 4511, 4513, 4519, 4558, 4560, 4561, 4562, 4564, 4565, 4569, 4571, 4576, 4580, 4582, 4589, 4600, 4609, 4611, 4612, 4616, 4618, 4619, 4625, 4680, 4685, 4709, 4713, 4715, 4720, 4730, 4742, 4745, 4753, 4760, 4778, 4780, 4784, 4785, 4793, 4803, 4805, 4812, 4824, 4826, 4832, 4835, 4837, 4839, 4844, 4854, 4869, 4870, 4876, 4884, 4886, 4902, 4915, 4921, 4924, 4934, 4935, 4943, 4950, 4954, 4961, 4965, 4966, 4969, 4974, 4992, 5013, 5015, 5027, 5057, 5063, 5067, 5069, 5071, 5073, 5100, 5101, 5103, 5115, 5127, 5151, 5153, 5156, 5157, 5160, 5167, 5173, 5180, 5200, 5210, 5211, 5215, 5225, 5240, 5243, 5259, 5281, 5297, 5301, 5307, 5309, 5329, 5350, 5351, 5360, 5362, 5364, 5365, 5369, 5378, 5385, 5386, 5397, 5407, 5412, 5415, 5426, 5428, 5432, 5441, 5445, 5456, 5463, 5467, 5479, 5483, 5494, 5507, 5508, 5514, 5516, 5527, 5528, 5532, 5547, 5551, 5552, 5557, 5560, 5571, 5579, 5586, 5600, 5607, 5609, 5620, 5623, 5638, 5645, 5655, 5663, 5666, 5677, 5681, 5682, 5685, 5704, 5705, 5714, 5718, 5721, 5722, 5723, 5725, 5726, 5741, 5743, 5756, 5777, 5806, 5828, 5830, 5832, 5840, 5847, 5850, 5853, 5861, 5866, 5892, 5900, 5905, 5915, 5918, 5927, 5939, 5944, 5950, 5960, 5965, 5970, 5977, 5993, 6016, 6033, 6044, 6050, 6061, 6064, 6070, 6096, 6100, 6103, 6108, 6114, 6126, 6134, 6135, 6136, 6148, 6152, 6170, 6171, 6180, 6184, 6187, 6198, 6204, 6205, 6210, 6217, 6232, 6236, 6238, 6239, 6242, 6246, 6258, 6266, 6270, 6279, 6281, 6282, 6284, 6285, 6293, 6296, 6302, 6305, 6312, 6321, 6322, 6342, 6349, 6357, 6367, 6370, 6388, 6393, 6401, 6405, 6416, 6419, 6427, 6438, 6462, 6463, 6464, 6470, 6482, 6504, 6506, 6517, 6532, 6590, 6597, 6609, 6617, 6623, 6627, 6633, 6637, 6638, 6640, 6653, 6654, 6662, 6688, 6729, 6731, 6733, 6734, 6741, 6742, 6751, 6757, 6759, 6771, 6782, 6786, 6810, 6827, 6832, 6835, 6851, 6856, 6862, 6865, 6866, 6870, 6886, 6893, 6894, 6895, 6909, 6913, 6914, 6922, 6924, 6938, 6956, 6963, 6965, 6966, 6971, 6978, 6981, 6982, 6988, 6992, 6993, 6998, 7004, 7015, 7019, 7023, 7029, 7071, 7074, 7096, 7097, 7101, 7104, 7107, 7111, 7114, 7120, 7131, 7153, 7156, 7172, 7173, 7192, 7194, 7198, 7205, 7209, 7210, 7215, 7234, 7242, 7248, 7257, 7283, 7301, 7323, 7327, 7351, 7362, 7375, 7378, 7380, 7384, 7386, 7398, 7399, 7401, 7403, 7405, 7409, 7411, 7431, 7436, 7441, 7443, 7449, 7450, 7475, 7493, 7511, 7518, 7529, 7536, 7538, 7544, 7555, 7556, 7572, 7587, 7590, 7598, 7600, 7608, 7613, 7618, 7624, 7641, 7644, 7654, 7655, 7670, 7678, 7682, 7683, 7688, 7691, 7696, 7697, 7705, 7707, 7720, 7760, 7764, 7772, 7774, 7786, 7789, 7792, 7798, 7805, 7813, 7818, 7820, 7827, 7839, 7848, 7858, 7859, 7868, 7873, 7878, 7882, 7896, 7897, 7899, 7905, 7920, 7926, 7927, 7939, 7951, 7970, 7971, 7979, 7980, 7989, 7991, 7999, 8010, 8022, 8025, 8029, 8031, 8033, 8034, 8037, 8046, 8048, 8063, 8068, 8069, 8070, 8071, 8075, 8084, 8091, 8101, 8104, 8111, 8123, 8130, 8134, 8137, 8149, 8156, 8159, 8161, 8166, 8169, 8191}\n"
     ]
    }
   ],
   "source": [
    "import pandas as pd\n",
    "from datetime import datetime, timedelta\n",
    "\n",
    "def find_users_with_multiple_visits(df):\n",
    "    # Sort the DataFrame by user_id and time_stamp in ascending order\n",
    "    sorted_df = df.sort_values(by=['user_id', 'time_stamp'])\n",
    "    \n",
    "    users_with_multiple_visits = set()\n",
    "    for i in range(len(sorted_df) - 2):\n",
    "        # Extract relevant information from the current and next two rows\n",
    "        current_time = datetime.strptime(sorted_df.iloc[i]['time_stamp'], '%Y-%m-%d %H:%M:%S')\n",
    "        next_time = datetime.strptime(sorted_df.iloc[i + 1]['time_stamp'], '%Y-%m-%d %H:%M:%S')\n",
    "        next_next_time = datetime.strptime(sorted_df.iloc[i + 2]['time_stamp'], '%Y-%m-%d %H:%M:%S')\n",
    "        \n",
    "        current_user = sorted_df.iloc[i]['user_id']\n",
    "        next_user = sorted_df.iloc[i + 1]['user_id']\n",
    "        next_next_user = sorted_df.iloc[i + 2]['user_id']\n",
    "        \n",
    "        # Check if the consecutive visits are by the same user and within a week\n",
    "        if current_user == next_user == next_next_user and \\\n",
    "           next_time - current_time <= timedelta(days=7) and \\\n",
    "           next_next_time - current_time <= timedelta(days=7):\n",
    "            \n",
    "            # Record the user_id if they visited 3 or more times within a week\n",
    "            users_with_multiple_visits.add(current_user)\n",
    "\n",
    "    return users_with_multiple_visits\n",
    "\n",
    "result = find_users_with_multiple_visits(ts)\n",
    "print(result)"
   ]
  },
  {
   "cell_type": "markdown",
   "id": "178606d0",
   "metadata": {},
   "source": [
    "For adopted users assign a value 1 for others assign 0."
   ]
  },
  {
   "cell_type": "code",
   "execution_count": 32,
   "id": "0ace50ed",
   "metadata": {},
   "outputs": [],
   "source": [
    "df['adopted_user'] = df['object_id'].apply(lambda x: 1 if x in result else 0)"
   ]
  },
  {
   "cell_type": "code",
   "execution_count": 109,
   "id": "63d74df1",
   "metadata": {},
   "outputs": [
    {
     "data": {
      "image/png": "[encoded data removed]",
      "text/plain": [
       "<Figure size 640x480 with 1 Axes>"
      ]
     },
     "metadata": {},
     "output_type": "display_data"
    }
   ],
   "source": [
    "x = df.groupby('adopted_user').agg(total=('adopted_user','size')).reset_index()\n",
    "ax = sns.barplot(data=x, x=x.adopted_user, y=x.total, width=0.4)\n",
    "plt.title('Count of adopted and non-adopted users')\n",
    "ax.set(xlabel='Users', ylabel='Count')\n",
    "for i, v in enumerate(x.total):\n",
    "    ax.text(i, v + 40, str(v), ha='center', fontsize=11)"
   ]
  },
  {
   "cell_type": "markdown",
   "id": "b3187e71",
   "metadata": {},
   "source": [
    "Encode the values of creation_source column for modeling process."
   ]
  },
  {
   "cell_type": "code",
   "execution_count": 34,
   "id": "7f910d9c",
   "metadata": {},
   "outputs": [],
   "source": [
    "dummies = pd.get_dummies(df.creation_source, drop_first=True)\n",
    "df1 = pd.concat([df,dummies], axis=1)\n",
    "df1.drop('creation_source',axis=1,inplace=True)"
   ]
  },
  {
   "cell_type": "code",
   "execution_count": null,
   "id": "fdf2a32f",
   "metadata": {},
   "outputs": [],
   "source": [
    "# Convert the 'creation_time' column to pandas datetime object\n",
    "df['creation_time'] = pd.to_datetime(df['creation_time'])\n",
    "\n",
    "# Calculate the age in days\n",
    "current_time = datetime.now()\n",
    "df['account_age'] = (current_time - df['creation_time']).dt.days"
   ]
  },
  {
   "cell_type": "code",
   "execution_count": 39,
   "id": "6a35514b",
   "metadata": {},
   "outputs": [],
   "source": [
    "X = df1.drop(['name','email','adopted_user','invited_by_user_id','last_session_creation_time','creation_time'], axis=1)\n",
    "y = df1.adopted_user\n",
    "\n",
    "from sklearn.model_selection import train_test_split\n",
    "X_train, X_test, y_train, y_test = train_test_split(X, y, random_state=42)"
   ]
  },
  {
   "cell_type": "code",
   "execution_count": 69,
   "id": "7485a077",
   "metadata": {},
   "outputs": [
    {
     "name": "stdout",
     "output_type": "stream",
     "text": [
      "Accuracy of test set was 0.836\n",
      "              precision    recall  f1-score   support\n",
      "\n",
      "           0       0.86      0.96      0.91      2580\n",
      "           1       0.18      0.05      0.08       420\n",
      "\n",
      "    accuracy                           0.84      3000\n",
      "   macro avg       0.52      0.51      0.49      3000\n",
      "weighted avg       0.77      0.84      0.79      3000\n",
      "\n"
     ]
    }
   ],
   "source": [
    "# evluation of the model\n",
    "model = RandomForestClassifier(random_state=42, class_weight='balanced', n_estimators=100)\n",
    "model.fit(X_train, y_train)\n",
    "y_pred = model.predict(X_test)\n",
    "print('Accuracy of test set was', accuracy_score(y_test, y_pred))\n",
    "print(classification_report(y_test, y_pred))"
   ]
  },
  {
   "cell_type": "code",
   "execution_count": 70,
   "id": "cbb77ffa",
   "metadata": {},
   "outputs": [
    {
     "data": {
      "text/plain": [
       "array([[2488,   92],\n",
       "       [ 400,   20]], dtype=int64)"
      ]
     },
     "execution_count": 70,
     "metadata": {},
     "output_type": "execute_result"
    }
   ],
   "source": [
    "confusion_matrix(y_test,y_pred)"
   ]
  },
  {
   "cell_type": "code",
   "execution_count": 111,
   "id": "0792cff8",
   "metadata": {},
   "outputs": [
    {
     "data": {
      "image/png": "[encoded data removed]",
      "text/plain": [
       "<Figure size 640x480 with 1 Axes>"
      ]
     },
     "metadata": {},
     "output_type": "display_data"
    },
    {
     "name": "stdout",
     "output_type": "stream",
     "text": [
      "opted_in_to_mailing_list      0.009935\n",
      "enabled_for_marketing_drip    0.009783\n",
      "org_id                        0.428532\n",
      "account_age                   0.518021\n",
      "ORG_INVITE                    0.007698\n",
      "PERSONAL_PROJECTS             0.015479\n",
      "SIGNUP                        0.005108\n",
      "SIGNUP_GOOGLE_AUTH            0.005444\n",
      "dtype: float64\n"
     ]
    }
   ],
   "source": [
    "feat_importances = pd.Series(model.feature_importances_, index=X_train.columns)\n",
    "feat_importances.nlargest(10).plot(kind='barh')\n",
    "plt.show()\n",
    "print(feat_importances)"
   ]
  },
  {
   "cell_type": "markdown",
   "id": "3ae6ac2c",
   "metadata": {},
   "source": [
    "It appers that the organization (group of users) they belong to and the account age has importance."
   ]
  },
  {
   "cell_type": "code",
   "execution_count": null,
   "id": "652d108c",
   "metadata": {},
   "outputs": [],
   "source": []
  }
 ],
 "metadata": {
  "kernelspec": {
   "display_name": "Python 3 (ipykernel)",
   "language": "python",
   "name": "python3"
  },
  "language_info": {
   "codemirror_mode": {
    "name": "ipython",
    "version": 3
   },
   "file_extension": ".py",
   "mimetype": "text/x-python",
   "name": "python",
   "nbconvert_exporter": "python",
   "pygments_lexer": "ipython3",
   "version": "3.9.13"
  }
 },
 "nbformat": 4,
 "nbformat_minor": 5
}
